{
  "nbformat": 4,
  "nbformat_minor": 0,
  "metadata": {
    "colab": {
      "provenance": [],
      "toc_visible": true
    },
    "kernelspec": {
      "name": "python3",
      "display_name": "Python 3"
    },
    "language_info": {
      "name": "python"
    }
  },
  "cells": [
    {
      "cell_type": "code",
      "execution_count": null,
      "metadata": {
        "colab": {
          "base_uri": "https://localhost:8080/"
        },
        "id": "VbutiSUWHp1G",
        "outputId": "58eb86af-7886-4137-b77d-d8e828a6a88d"
      },
      "outputs": [
        {
          "output_type": "stream",
          "name": "stdout",
          "text": [
            "Zeros Array:\n",
            " [[1. 1. 1.]\n",
            " [1. 1. 1.]\n",
            " [1. 1. 1.]]\n"
          ]
        }
      ],
      "source": [
        "import numpy as np\n",
        "#create 3x3 array of zeros\n",
        "np.ones_arr = np.ones((3, 3))\n",
        "print(\"Zeros Array:\\n\", np.ones_arr)\n"
      ]
    },
    {
      "cell_type": "code",
      "source": [
        "import numpy as np\n",
        "#create 2x4 array of zeros\n",
        "np.ones_arr = np.ones((2, 4))\n",
        "print(\"Zeros Array:\\n\", np.ones_arr)"
      ],
      "metadata": {
        "colab": {
          "base_uri": "https://localhost:8080/"
        },
        "id": "PYSdJZqaQSt4",
        "outputId": "c1cc4e75-7615-407f-d9f1-a9f145ebb710"
      },
      "execution_count": null,
      "outputs": [
        {
          "output_type": "stream",
          "name": "stdout",
          "text": [
            "Zeros Array:\n",
            " [[1. 1. 1. 1.]\n",
            " [1. 1. 1. 1.]]\n"
          ]
        }
      ]
    },
    {
      "cell_type": "code",
      "source": [
        "import numpy as np\n",
        "#Create a 5x5 array filled with the value 7\n",
        "array = np.full((5, 5), 7)\n",
        "print(array)"
      ],
      "metadata": {
        "colab": {
          "base_uri": "https://localhost:8080/"
        },
        "id": "SI-2tUOdQhCN",
        "outputId": "a5de307e-49f1-49b3-8b09-9826428bc96c"
      },
      "execution_count": null,
      "outputs": [
        {
          "output_type": "stream",
          "name": "stdout",
          "text": [
            "[[7 7 7 7 7]\n",
            " [7 7 7 7 7]\n",
            " [7 7 7 7 7]\n",
            " [7 7 7 7 7]\n",
            " [7 7 7 7 7]]\n"
          ]
        }
      ]
    },
    {
      "cell_type": "code",
      "source": [
        "import numpy as np\n",
        "#Create a 1D array of numbers from 0 to 9.\n",
        "arr1=np.array([0,1,2,3,4,5,6,7,8,9])\n",
        "print(arr1)"
      ],
      "metadata": {
        "colab": {
          "base_uri": "https://localhost:8080/"
        },
        "id": "fUZYNMFxRKE8",
        "outputId": "13ea535e-e5c3-4549-b007-654c36e4ae52"
      },
      "execution_count": null,
      "outputs": [
        {
          "output_type": "stream",
          "name": "stdout",
          "text": [
            "[0 1 2 3 4 5 6 7 8 9]\n"
          ]
        }
      ]
    },
    {
      "cell_type": "code",
      "source": [
        "import numpy as np\n",
        "#Create a 2D array of numbers from 1 to 9.\n",
        "arr1=np.array([[1,2,3],[4,5,6],[7,8,9]])\n",
        "print(\"2D Array:\\n\", arr1)\n",
        "print(\"Shape:\", arr1.shape) # Output: (3, 3)"
      ],
      "metadata": {
        "colab": {
          "base_uri": "https://localhost:8080/"
        },
        "id": "ydYI5w_NS6ru",
        "outputId": "a097c9f4-c057-4899-e242-6ad9c4059f38"
      },
      "execution_count": null,
      "outputs": [
        {
          "output_type": "stream",
          "name": "stdout",
          "text": [
            "2D Array:\n",
            " [[1 2 3]\n",
            " [4 5 6]\n",
            " [7 8 9]]\n",
            "Shape: (3, 3)\n"
          ]
        }
      ]
    },
    {
      "cell_type": "code",
      "source": [
        "import numpy as np\n",
        "# Create a 3D array of shape (2, 3, 4) filled with random integers from 1 to 100\n",
        "arr3d = np.random.randint(1, 101, size=(2, 3, 4))\n",
        "print(arr3d)\n",
        "print(\"Shape:\", arr3d.shape) # Output: (2, 3, 4)"
      ],
      "metadata": {
        "colab": {
          "base_uri": "https://localhost:8080/"
        },
        "id": "-eUskF67TiZ-",
        "outputId": "14a10071-36d1-4714-812f-be41d772cf78"
      },
      "execution_count": null,
      "outputs": [
        {
          "output_type": "stream",
          "name": "stdout",
          "text": [
            "[[[34 39 23 77]\n",
            "  [23 24 10 11]\n",
            "  [97 60 93 93]]\n",
            "\n",
            " [[46 67  9 76]\n",
            "  [76 12 51 49]\n",
            "  [31 16 91 67]]]\n",
            "Shape: (2, 3, 4)\n"
          ]
        }
      ]
    },
    {
      "cell_type": "code",
      "source": [
        "import numpy as np\n",
        "#Given the array arr2 from Task 1, extract the second row.\n",
        "arr1 = np.array([[1, 2, 3], [4, 5, 6], [7, 8, 9]])\n",
        "print(arr1[1])"
      ],
      "metadata": {
        "colab": {
          "base_uri": "https://localhost:8080/"
        },
        "id": "3PgGdINyVX1z",
        "outputId": "297a01e6-1d33-4c49-a1fd-056c0468b104"
      },
      "execution_count": null,
      "outputs": [
        {
          "output_type": "stream",
          "name": "stdout",
          "text": [
            "[4 5 6]\n"
          ]
        }
      ]
    },
    {
      "cell_type": "code",
      "source": [
        "import numpy as np\n",
        "# Extract the element at the 3rd row and 2nd column\n",
        "arr1 = np.array([[1, 2, 3], [4, 5, 6], [7, 8, 9]])\n",
        "print(arr1[2, 1])"
      ],
      "metadata": {
        "colab": {
          "base_uri": "https://localhost:8080/"
        },
        "id": "bvKMWY2FWr8y",
        "outputId": "543374f6-89d2-4545-974d-f8564b707fe4"
      },
      "execution_count": 11,
      "outputs": [
        {
          "output_type": "stream",
          "name": "stdout",
          "text": [
            "8\n"
          ]
        }
      ]
    },
    {
      "cell_type": "code",
      "source": [
        "import numpy as np\n",
        "# Extracting the first layer (0th index)\n",
        "arr3 = np.array([[[1, 2, 3], [4, 5, 6], [7, 8, 9]],\n",
        "                 [[10, 11, 12], [13, 14, 15], [16, 17, 18]]])\n",
        "print(arr3[0]) # This will extract the 2D array at index 0"
      ],
      "metadata": {
        "colab": {
          "base_uri": "https://localhost:8080/"
        },
        "id": "4yg9kl3GisA-",
        "outputId": "89c72c49-52ec-4952-eef9-610a0037016d"
      },
      "execution_count": 16,
      "outputs": [
        {
          "output_type": "stream",
          "name": "stdout",
          "text": [
            "[[1 2 3]\n",
            " [4 5 6]\n",
            " [7 8 9]]\n"
          ]
        }
      ]
    },
    {
      "cell_type": "code",
      "source": [
        "import numpy as np\n",
        "\n",
        "# Original 1D array\n",
        "arr1 = np.array([0, 1, 2, 3, 4, 5, 6, 7, 8, 9])\n",
        "\n",
        "# Reshaping into a 2x5 2D array\n",
        "arr2d = arr1.reshape(2, 5)\n",
        "\n",
        "print(arr2d)"
      ],
      "metadata": {
        "colab": {
          "base_uri": "https://localhost:8080/"
        },
        "id": "_qAz_EFljyUZ",
        "outputId": "d36fadf1-af20-4f5c-e714-1c638e537120"
      },
      "execution_count": 1,
      "outputs": [
        {
          "output_type": "stream",
          "name": "stdout",
          "text": [
            "[[0 1 2 3 4]\n",
            " [5 6 7 8 9]]\n"
          ]
        }
      ]
    },
    {
      "cell_type": "code",
      "source": [
        "import matplotlib.pyplot as plt\n",
        "\n",
        "# Data\n",
        "x = [1, 2, 3, 4, 5]\n",
        "y = [2, 4, 6, 8, 10]\n",
        "\n",
        "# Create a line plot\n",
        "plt.plot(x, y, color='red', linestyle='--')\n",
        "\n",
        "# Add title and labels\n",
        "plt.title('Line Plot of X vs Y')\n",
        "plt.xlabel('X Values')\n",
        "plt.ylabel('Y Values')\n",
        "\n",
        "# Display the plot\n",
        "plt.show()"
      ],
      "metadata": {
        "colab": {
          "base_uri": "https://localhost:8080/",
          "height": 472
        },
        "id": "_yN3MCgGG7uC",
        "outputId": "5a145a8e-9de1-427d-94ef-84df6a42a5a7"
      },
      "execution_count": 2,
      "outputs": [
        {
          "output_type": "display_data",
          "data": {
            "text/plain": [
              "<Figure size 640x480 with 1 Axes>"
            ],
            "image/png": "[encoded data removed]"
          },
          "metadata": {}
        }
      ]
    },
    {
      "cell_type": "code",
      "source": [
        "import matplotlib.pyplot as plt\n",
        "\n",
        "# Data\n",
        "categories = ['A', 'B', 'C', 'D']\n",
        "values = [10, 20, 15, 25]\n",
        "\n",
        "# Create a bar plot\n",
        "plt.bar(categories, values, color='green')\n",
        "\n",
        "# Add title and labels\n",
        "plt.title('Bar Plot')\n",
        "plt.xlabel('Categories')\n",
        "plt.ylabel('Values')\n",
        "\n",
        "# Display the plot\n",
        "plt.show()"
      ],
      "metadata": {
        "colab": {
          "base_uri": "https://localhost:8080/",
          "height": 472
        },
        "id": "msKXnhjKIFD5",
        "outputId": "ab3ab527-5afa-459b-c3a2-381dc54fe5d8"
      },
      "execution_count": 3,
      "outputs": [
        {
          "output_type": "display_data",
          "data": {
            "text/plain": [
              "<Figure size 640x480 with 1 Axes>"
            ],
            "image/png": "[encoded data removed]"
          },
          "metadata": {}
        }
      ]
    }
  ]
}